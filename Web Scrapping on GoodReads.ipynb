{
 "cells": [
  {
   "cell_type": "markdown",
   "metadata": {},
   "source": [
    "# Web Scrapping on [GoodReads](https://www.goodreads.com/)\n",
    "\n",
    "Reload the kernel:"
   ]
  },
  {
   "cell_type": "code",
   "execution_count": 1,
   "metadata": {},
   "outputs": [],
   "source": [
    "# Some more magic so that the notebook will reload external python modules;\n",
    "# see http://stackoverflow.com/questions/1907993/autoreload-of-modules-in-ipython\n",
    "%load_ext autoreload\n",
    "%autoreload 2"
   ]
  },
  {
   "cell_type": "markdown",
   "metadata": {},
   "source": [
    "# 1. Scrape data with [scrapereads](https://github.com/arthurdjn/scrape-goodreads)\n",
    "\n",
    "Basic import:"
   ]
  },
  {
   "cell_type": "code",
   "execution_count": 2,
   "metadata": {},
   "outputs": [],
   "source": [
    "from scrapereads import GoodReads\n",
    "from scrapereads import Author, Book, Quote"
   ]
  },
  {
   "cell_type": "markdown",
   "metadata": {},
   "source": [
    "## 1.1. GoodReads scraping from the API\n",
    "\n",
    "The API uses ``id`` to search authors, books or quotes."
   ]
  },
  {
   "cell_type": "code",
   "execution_count": 5,
   "metadata": {},
   "outputs": [],
   "source": [
    "goodreads = GoodReads()"
   ]
  },
  {
   "cell_type": "code",
   "execution_count": 6,
   "metadata": {},
   "outputs": [
    {
     "data": {
      "text/plain": [
       "Author: Stephen King"
      ]
     },
     "execution_count": 6,
     "metadata": {},
     "output_type": "execute_result"
    }
   ],
   "source": [
    "# Examples\n",
    "# Author id: 3389 -> Stephen King\n",
    "#            1077326 -> J. K. Rolling\n",
    "\n",
    "AUTHOR_ID = 3389\n",
    "author = goodreads.search_author(AUTHOR_ID)\n",
    "\n",
    "author"
   ]
  },
  {
   "cell_type": "code",
   "execution_count": 7,
   "metadata": {},
   "outputs": [
    {
     "name": "stdout",
     "output_type": "stream",
     "text": [
      "Stephen Edwin King was born the second son of Donald and Nellie Ruth Pillsbury King. After his father left them when Stephen was two, he and his older brother, David, were raised by his mother. Parts of his childhood were spent in Fort Wayne, Indiana, where his father's family was at the time, and in Stratford, Connecticut. When Stephen was eleven, his mother brought her children back to Durham, Maine, for good. Her parents, Guy and Nellie Pillsbury, had become incapacitated with old age, and Ruth King was persuaded by her sisters to take over the physical care of them. Other family members provided a small house in Durham and financial support. After Stephen's grandparents passed away, Mrs. King found work in the kitchens of Pineland, a nearby residential facility for the mentally challenged.\n",
      "\n",
      "Stephen attended the grammar school in Durham and Lisbon Falls High School, graduating in 1966. From his sophomore year at the University of Maine at Orono, he wrote a weekly column for the school newspaper, THE MAINE CAMPUS. He was also active in student politics, serving as a member of the Student Senate. He came to support the anti-war movement on the Orono campus, arriving at his stance from a conservative view that the war in Vietnam was unconstitutional. He graduated in 1970, with a B.A. in English and qualified to teach on the high school level. A draft board examination immediately post-graduation found him 4-F on grounds of high blood pressure, limited vision, flat feet, and punctured eardrums.\n",
      "\n",
      "He met Tabitha Spruce in the stacks of the Fogler Library at the University, where they both worked as students; they married in January of 1971. As Stephen was unable to find placement as a teacher immediately, the Kings lived on his earnings as a laborer at an industrial laundry, and her student loan and savings, with an occasional boost from a short story sale to men's magazines.\n",
      "\n",
      "Stephen made his first professional short story sale (\"The Glass Floor\") to Startling Mystery Stories in 1967. Throughout the early years of his marriage, he continued to sell stories to men's magazines. Many were gathered into the Night Shift collection or appeared in other anthologies.\n",
      "\n",
      "In the fall of 1971, Stephen began teaching English at Hampden Academy, the public high school in Hampden, Maine. Writing in the evenings and on the weekends, he continued to produce short stories and to work on novels.\n"
     ]
    }
   ],
   "source": [
    "info = author.get_info()\n",
    "\n",
    "print(info['Description'])"
   ]
  },
  {
   "cell_type": "markdown",
   "metadata": {},
   "source": [
    "Similarly, to retrieve books (you can use ``top_k=NUMBER`` to look for the first $k$ books):"
   ]
  },
  {
   "cell_type": "code",
   "execution_count": 9,
   "metadata": {},
   "outputs": [
    {
     "data": {
      "text/plain": [
       "[Stephen King: \"The Shining\", 387 editions,\n",
       " Stephen King: \"It\", 313 editions,\n",
       " Stephen King: \"The Stand\", 230 editions,\n",
       " Stephen King: \"Misery\", 263 editions,\n",
       " Stephen King: \"Carrie\", 315 editions]"
      ]
     },
     "execution_count": 9,
     "metadata": {},
     "output_type": "execute_result"
    }
   ],
   "source": [
    "books = goodreads.search_books(AUTHOR_ID, top_k=5)\n",
    "\n",
    "books"
   ]
  },
  {
   "cell_type": "markdown",
   "metadata": {},
   "source": [
    "## 1.2. Retrieve data\n",
    "\n",
    "#### WARNING: *scrapereads* uses a cache system. Each time a connection is made and data is extracted, it is saved within the object.\n",
    "\n",
    "For example, if 5 quotes are retrieved from *goodreads.com*, they wil be stocked in ``_quotes`` private attribute. Then, you can have access through ``.get_quotes()`` method (or ``.quote()`` if you wan to iter on ``_quotes``)."
   ]
  },
  {
   "cell_type": "code",
   "execution_count": 10,
   "metadata": {},
   "outputs": [
    {
     "data": {
      "text/plain": [
       "Author: Stephen King"
      ]
     },
     "execution_count": 10,
     "metadata": {},
     "output_type": "execute_result"
    }
   ],
   "source": [
    "author = Author(AUTHOR_ID)\n",
    "\n",
    "author"
   ]
  },
  {
   "cell_type": "code",
   "execution_count": 11,
   "metadata": {},
   "outputs": [
    {
     "name": "stdout",
     "output_type": "stream",
     "text": [
      "“Books are a uniquely portable magic.”\n",
      "― Stephen King, from \"On Writing: A Memoir Of The Craft\"\n",
      "  Likes: 16225, Tags: books, magic, reading\n",
      "\n",
      "“If you don't have time to read, you don't have the time (or the tools) to write. Simple as that.”\n",
      "― Stephen King\n",
      "  Likes: 12565, Tags: reading, writing\n",
      "\n",
      "“Get busy living or get busy dying.”\n",
      "― Stephen King, from \"Different Seasons\"\n",
      "  Likes: 9014, Tags: life\n",
      "\n",
      "“Books are the perfect entertainment: no commercials, no batteries, hours of enjoyment for each dollar spent. What I wonder is why everybody doesn't carry a book around for those inevitable dead spots in life.”\n",
      "― Stephen King\n",
      "  Likes: 8667, Tags: books\n",
      "\n",
      "“When his life was ruined, his family killed, his farm destroyed, Job knelt down on the ground and yelled up to the heavens, \"Why god? Why me?\" and the thundering voice of God answered, There's just something about you that pisses me off.”\n",
      "― Stephen King, from \"Storm Of The Century\"\n",
      "  Likes: 7686, Tags: god, humor, religion\n",
      "\n"
     ]
    }
   ],
   "source": [
    "quotes = author.get_quotes(top_k=5)\n",
    "\n",
    "for quote in quotes:\n",
    "    print(quote)\n",
    "    print()"
   ]
  },
  {
   "cell_type": "code",
   "execution_count": 12,
   "metadata": {},
   "outputs": [
    {
     "data": {
      "text/plain": [
       "[Stephen King: \"On Writing: A Memoir Of The Craft\",\n",
       " Stephen King: \"Different Seasons\",\n",
       " Stephen King: \"Storm Of The Century\"]"
      ]
     },
     "execution_count": 12,
     "metadata": {},
     "output_type": "execute_result"
    }
   ],
   "source": [
    "author.get_books()"
   ]
  },
  {
   "cell_type": "markdown",
   "metadata": {},
   "source": [
    "With the cache system, 5 quotes have been added to the cache ``_quotes`` of ``author``."
   ]
  },
  {
   "cell_type": "code",
   "execution_count": 13,
   "metadata": {},
   "outputs": [
    {
     "name": "stdout",
     "output_type": "stream",
     "text": [
      "Number of quotes in the cache: 5\n"
     ]
    }
   ],
   "source": [
    "num_quotes = len(author.get_quotes())\n",
    "\n",
    "print(f'Number of quotes in the cache: {num_quotes}')"
   ]
  },
  {
   "cell_type": "markdown",
   "metadata": {},
   "source": [
    "This behavior takes place in ``Book`` classes too.\n",
    "\n",
    "**The ``cache=False`` attribute can be used to suppress this behavior**"
   ]
  },
  {
   "cell_type": "code",
   "execution_count": 14,
   "metadata": {},
   "outputs": [
    {
     "name": "stdout",
     "output_type": "stream",
     "text": [
      "Number of quotes in the cache: 3\n"
     ]
    }
   ],
   "source": [
    "quotes = author.get_quotes(top_k=3, cache=False)\n",
    "\n",
    "num_quotes = len(author.get_quotes())\n",
    "\n",
    "print(f'Number of quotes in the cache: {num_quotes}')"
   ]
  },
  {
   "cell_type": "code",
   "execution_count": 15,
   "metadata": {},
   "outputs": [
    {
     "data": {
      "text/plain": [
       "[Stephen King: \"On Writing: A Memoir Of The Craft\",\n",
       " Stephen King: \"Different Seasons\",\n",
       " Stephen King: \"Storm Of The Century\"]"
      ]
     },
     "execution_count": 15,
     "metadata": {},
     "output_type": "execute_result"
    }
   ],
   "source": [
    "books = author.get_books(top_k=3)\n",
    "\n",
    "books"
   ]
  },
  {
   "cell_type": "markdown",
   "metadata": {},
   "source": [
    "Setting ``cache=False`` will ignore the cache and scrape data from *goodreads.com*."
   ]
  },
  {
   "cell_type": "markdown",
   "metadata": {},
   "source": [
    "## 1.3. Objects interactions\n",
    "\n",
    "Let's remind that ``Quote``, ``Book`` inherit from ``Author`` structure.\n",
    "\n",
    "You can, from a quote, retrieve its author (or from a book). From an author, you can search for specific quotes or books (by looking at their id)."
   ]
  },
  {
   "cell_type": "code",
   "execution_count": 16,
   "metadata": {},
   "outputs": [
    {
     "data": {
      "text/plain": [
       "“When his life was ruined, his family killed, his farm destroyed, Job knelt down on the ground and yelled up to the heavens, \"Why god? Why me?\" and the thundering voice of God answered, There's just something about you that pisses me off.”\n",
       "― Stephen King, from \"Storm Of The Century\"\n",
       "  Likes: 7686, Tags: god, humor, religion"
      ]
     },
     "execution_count": 16,
     "metadata": {},
     "output_type": "execute_result"
    }
   ],
   "source": [
    "quote"
   ]
  },
  {
   "cell_type": "code",
   "execution_count": 17,
   "metadata": {},
   "outputs": [
    {
     "data": {
      "text/plain": [
       "Author: Stephen King"
      ]
     },
     "execution_count": 17,
     "metadata": {},
     "output_type": "execute_result"
    }
   ],
   "source": [
    "quote.get_author()"
   ]
  },
  {
   "cell_type": "code",
   "execution_count": 18,
   "metadata": {},
   "outputs": [
    {
     "data": {
      "text/plain": [
       "Stephen King: \"Storm Of The Century\""
      ]
     },
     "execution_count": 18,
     "metadata": {},
     "output_type": "execute_result"
    }
   ],
   "source": [
    "book = books[-1]\n",
    "\n",
    "book"
   ]
  },
  {
   "cell_type": "code",
   "execution_count": 19,
   "metadata": {},
   "outputs": [
    {
     "data": {
      "text/plain": [
       "Stephen King: \"Storm Of The Century\""
      ]
     },
     "execution_count": 19,
     "metadata": {},
     "output_type": "execute_result"
    }
   ],
   "source": [
    "quote.get_book()"
   ]
  },
  {
   "cell_type": "markdown",
   "metadata": {},
   "source": [
    "...and their parent are the same object:"
   ]
  },
  {
   "cell_type": "code",
   "execution_count": 20,
   "metadata": {},
   "outputs": [
    {
     "data": {
      "text/plain": [
       "True"
      ]
     },
     "execution_count": 20,
     "metadata": {},
     "output_type": "execute_result"
    }
   ],
   "source": [
    "book.get_author() == quote.get_author()"
   ]
  },
  {
   "cell_type": "code",
   "execution_count": 21,
   "metadata": {},
   "outputs": [
    {
     "data": {
      "text/plain": [
       "True"
      ]
     },
     "execution_count": 21,
     "metadata": {},
     "output_type": "execute_result"
    }
   ],
   "source": [
    "quote.get_book() == book"
   ]
  },
  {
   "cell_type": "markdown",
   "metadata": {},
   "source": [
    "# 2. Export data\n",
    "\n",
    "You can use the ``.to_json(encode='ascii')`` method to save an object in a JSON format. The ``encode='ascii'`` is used to encode quotes and text in ASCII format (and remove all accents). You can turn it of by leaving ``encode=None``."
   ]
  },
  {
   "cell_type": "code",
   "execution_count": 22,
   "metadata": {},
   "outputs": [
    {
     "data": {
      "text/plain": [
       "{'author': 'Stephen King',\n",
       " 'book': 'Storm Of The Century',\n",
       " 'likes': 7686,\n",
       " 'tags': ['god', 'humor', 'religion'],\n",
       " 'quote': 'When his life was ruined, his family killed, his farm destroyed, Job knelt down on the ground and yelled up to the heavens, \"Why god? Why me?\" and the thundering voice of God answered, There\\'s just something about you that pisses me off.'}"
      ]
     },
     "execution_count": 22,
     "metadata": {},
     "output_type": "execute_result"
    }
   ],
   "source": [
    "quote.to_json(encode=None)"
   ]
  },
  {
   "cell_type": "code",
   "execution_count": null,
   "metadata": {},
   "outputs": [],
   "source": []
  }
 ],
 "metadata": {
  "kernelspec": {
   "display_name": "Python 3",
   "language": "python",
   "name": "python3"
  },
  "language_info": {
   "codemirror_mode": {
    "name": "ipython",
    "version": 3
   },
   "file_extension": ".py",
   "mimetype": "text/x-python",
   "name": "python",
   "nbconvert_exporter": "python",
   "pygments_lexer": "ipython3",
   "version": "3.7.4"
  }
 },
 "nbformat": 4,
 "nbformat_minor": 4
}
